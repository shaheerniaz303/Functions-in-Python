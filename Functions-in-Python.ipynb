{
 "cells": [
  {
   "cell_type": "markdown",
   "id": "dabe741d",
   "metadata": {},
   "source": [
    "## Functions in Python"
   ]
  },
  {
   "cell_type": "code",
   "execution_count": 33,
   "id": "00f41d05",
   "metadata": {},
   "outputs": [
    {
     "name": "stdout",
     "output_type": "stream",
     "text": [
      "Hello, Shaheer! The current time is 12:37:49.\n"
     ]
    }
   ],
   "source": [
    "#Create a function named greet_with_time that takes a name as input and prints a greeting message along with the current time.\n",
    "\n",
    "from datetime import datetime\n",
    "\n",
    "def greet_with_time(name):\n",
    "    current_time = datetime.now().strftime(\"%H:%M:%S\")\n",
    "    print(f\"Hello, {name}! The current time is {current_time}.\")\n",
    "    \n",
    "greet_with_time(\"Shaheer\")    "
   ]
  },
  {
   "cell_type": "code",
   "execution_count": 32,
   "id": "c22e46ed",
   "metadata": {},
   "outputs": [
    {
     "name": "stdout",
     "output_type": "stream",
     "text": [
      "The average is 20.0.\n"
     ]
    }
   ],
   "source": [
    "#Write a function called calculate_average that takes three numbers as input and returns their average.\n",
    "\n",
    "def calculate_avg(num1, num2, num3):\n",
    "    avg = (num1 + num2 + num3)/3\n",
    "    return avg\n",
    "\n",
    "result = calculate_avg(10,20,30)\n",
    "print(f\"The average is {result}.\")"
   ]
  },
  {
   "cell_type": "code",
   "execution_count": 37,
   "id": "f46102c3",
   "metadata": {},
   "outputs": [
    {
     "name": "stdout",
     "output_type": "stream",
     "text": [
      "Oriiganl price: $100, Final price with default discount: $90.0\n"
     ]
    }
   ],
   "source": [
    "#Define function calculate_discount that takes a price and a discount percentage as input. Set a default discount percentage of 10%.\n",
    "\n",
    "def calculate_discount(price, discount_percentage=10):\n",
    "    discount_amount = (discount_percentage / 100) * price\n",
    "    \n",
    "    final_price = price - discount_amount\n",
    "    return final_price\n",
    "\n",
    "price = 100\n",
    "final_price = calculate_discount(price)\n",
    "print(f\"Oriiganl price: ${price}, Final price with default discount: ${final_price}\")"
   ]
  },
  {
   "cell_type": "code",
   "execution_count": 44,
   "id": "72fd8940",
   "metadata": {},
   "outputs": [
    {
     "name": "stdout",
     "output_type": "stream",
     "text": [
      "Name: Shaheer\n",
      "Age: 21\n",
      "City: Lahore\n"
     ]
    }
   ],
   "source": [
    "#Create a function print_info that takes a name, age, and city as keyword arguments.\n",
    "\n",
    "def person_info(name, age, city):\n",
    "   \n",
    "    print(f\"Name: {name}\")\n",
    "    print(f\"Age: {age}\")\n",
    "    print(f\"City: {city}\")\n",
    "    \n",
    "person_info( name=\"Shaheer\", age=\"21\", city=\"Lahore\")"
   ]
  },
  {
   "cell_type": "code",
   "execution_count": 18,
   "id": "3e174f6c",
   "metadata": {},
   "outputs": [
    {
     "name": "stdout",
     "output_type": "stream",
     "text": [
      "50\n",
      "9\n",
      "None\n"
     ]
    }
   ],
   "source": [
    "#Write a function find_max that can take any number of arguments and returns the maximum value.\n",
    "\n",
    "def find_max(*args):\n",
    "    if args:\n",
    "        return max(args)\n",
    "    else:\n",
    "        return None\n",
    "    \n",
    "print(find_max(30, 20, 50, 7))\n",
    "print(find_max(5, 8, 9))\n",
    "print(find_max())"
   ]
  },
  {
   "cell_type": "code",
   "execution_count": 26,
   "id": "8ce96612",
   "metadata": {},
   "outputs": [
    {
     "name": "stdout",
     "output_type": "stream",
     "text": [
      "The factorial of 5 is 120\n"
     ]
    }
   ],
   "source": [
    "#Implement a recursive function to calculate the factorial of a number.\n",
    "\n",
    "def factorial(n):\n",
    "    if n == 0 or n == 1:\n",
    "         return 1\n",
    "    return n * factorial (n-1)\n",
    "\n",
    "number = 5\n",
    "print(f\"The factorial of {number} is {factorial(number)}\")"
   ]
  },
  {
   "cell_type": "code",
   "execution_count": 30,
   "id": "35004bcf-3a3c-41e1-a9f4-8224280f0bbe",
   "metadata": {},
   "outputs": [
    {
     "name": "stdout",
     "output_type": "stream",
     "text": [
      "Original numbers: [1, 2, 3, 4, 5]\n",
      "Squared numbers: [1, 4, 9, 16, 25]\n"
     ]
    }
   ],
   "source": [
    "#Define a function apply_function that takes a function and a list of numbers as input. Apply the function to each number in the list and return a new list with the results.\n",
    "\n",
    "def apply_function(func, numbers):\n",
    "    return [func(num) for num in numbers]\n",
    "\n",
    "def square(x):\n",
    "    return x**2\n",
    "\n",
    "numbers = [1, 2, 3, 4, 5]\n",
    "result = apply_function(square, numbers)\n",
    "print(f\"Original numbers: {numbers}\")\n",
    "print(f\"Squared numbers: {result}\")"
   ]
  },
  {
   "cell_type": "code",
   "execution_count": 54,
   "id": "e06f5521-beaf-424e-ba49-5c920611de57",
   "metadata": {},
   "outputs": [
    {
     "name": "stdin",
     "output_type": "stream",
     "text": [
      "Enter a number:  15\n"
     ]
    },
    {
     "name": "stdout",
     "output_type": "stream",
     "text": [
      "The square of 15 is 225\n"
     ]
    }
   ],
   "source": [
    "#Create a lambda function to square a number.\n",
    "\n",
    "number = int(input(\"Enter a number: \"))\n",
    "             \n",
    "square = lambda x: x**2\n",
    "\n",
    "result = square(number)\n",
    "print(f\"The square of {number} is {result}\")"
   ]
  },
  {
   "cell_type": "code",
   "execution_count": 44,
   "id": "49df804c-8e09-494e-9690-0a4453a68f36",
   "metadata": {},
   "outputs": [
    {
     "name": "stdout",
     "output_type": "stream",
     "text": [
      "Original numbers: [1, 2, 3, 4, 5]\n",
      "Squared numbers: [1, 4, 9, 16, 25]\n"
     ]
    }
   ],
   "source": [
    "#Write a function apply_operation that takes a function and a list of numbers. Apply the function to each number and return a new list.\n",
    "\n",
    "def apply_operation(func, numbers):\n",
    "    return [func(num) for num in numbers]\n",
    "\n",
    "square = lambda x: x**2\n",
    "\n",
    "numbers = [1, 2, 3, 4, 5]\n",
    "result = apply_operation(square, numbers)\n",
    "print(f\"Original numbers: {numbers}\")\n",
    "print(f\"Squared numbers: {result}\" )"
   ]
  },
  {
   "cell_type": "code",
   "execution_count": 56,
   "id": "8376c4bd-76fb-4fdd-adb2-33cde860a0ee",
   "metadata": {},
   "outputs": [
    {
     "name": "stdout",
     "output_type": "stream",
     "text": [
      "Execution time of example_function: 0.1813 seconds\n",
      "Result: 499999500000\n"
     ]
    }
   ],
   "source": [
    "#Implement a decorator to measure the execution time of a functiosn.\n",
    "\n",
    "import time \n",
    "\n",
    "def measure_time(func):\n",
    "    def wrapper(*args, **kwargs):\n",
    "        start_time = time.time()\n",
    "        result = func(*args, **kwargs)\n",
    "        end_time = time.time()\n",
    "        execution_time = end_time - start_time\n",
    "        print(f\"Execution time of {func.__name__}: {execution_time:.4f} seconds\")\n",
    "        return result\n",
    "    return wrapper\n",
    "\n",
    "@measure_time\n",
    "def example_function(n):\n",
    "    total = 0\n",
    "    for i in range(n):\n",
    "        total += i\n",
    "    return total\n",
    "\n",
    "result = example_function(1000000)\n",
    "print(f\"Result: {result}\")"
   ]
  }
 ],
 "metadata": {
  "kernelspec": {
   "display_name": "Python 3 (ipykernel)",
   "language": "python",
   "name": "python3"
  },
  "language_info": {
   "codemirror_mode": {
    "name": "ipython",
    "version": 3
   },
   "file_extension": ".py",
   "mimetype": "text/x-python",
   "name": "python",
   "nbconvert_exporter": "python",
   "pygments_lexer": "ipython3",
   "version": "3.12.4"
  }
 },
 "nbformat": 4,
 "nbformat_minor": 5
}
